{
  "nbformat": 4,
  "nbformat_minor": 0,
  "metadata": {
    "colab": {
      "name": "forex_random_forest.ipynb",
      "provenance": [],
      "collapsed_sections": [],
      "authorship_tag": "ABX9TyPucHRuf9DTG5DgdAkmpzc4"
    },
    "kernelspec": {
      "name": "python3",
      "display_name": "Python 3"
    },
    "language_info": {
      "name": "python"
    }
  },
  "cells": [
    {
      "cell_type": "markdown",
      "metadata": {
        "id": "ssebxqMK_vha"
      },
      "source": [
        "#**Import Dependencies**"
      ]
    },
    {
      "cell_type": "code",
      "metadata": {
        "id": "MoegSIpyARmF",
        "colab": {
          "base_uri": "https://localhost:8080/"
        },
        "outputId": "3af7755a-b603-4d1c-850f-928a1e5c65da"
      },
      "source": [
        "!pip install finta\n",
        "!pip install oandapyV20"
      ],
      "execution_count": null,
      "outputs": [
        {
          "output_type": "stream",
          "text": [
            "Collecting finta\n",
            "  Downloading https://files.pythonhosted.org/packages/06/8b/94331e5e8f4e6ba2690658d4a65db0a254a89117756337316ce8f6b2026b/finta-1.3-py3-none-any.whl\n",
            "Requirement already satisfied: numpy in /usr/local/lib/python3.7/dist-packages (from finta) (1.19.5)\n",
            "Requirement already satisfied: pandas in /usr/local/lib/python3.7/dist-packages (from finta) (1.1.5)\n",
            "Requirement already satisfied: python-dateutil>=2.7.3 in /usr/local/lib/python3.7/dist-packages (from pandas->finta) (2.8.1)\n",
            "Requirement already satisfied: pytz>=2017.2 in /usr/local/lib/python3.7/dist-packages (from pandas->finta) (2018.9)\n",
            "Requirement already satisfied: six>=1.5 in /usr/local/lib/python3.7/dist-packages (from python-dateutil>=2.7.3->pandas->finta) (1.15.0)\n",
            "Installing collected packages: finta\n",
            "Successfully installed finta-1.3\n",
            "Collecting oandapyV20\n",
            "\u001b[?25l  Downloading https://files.pythonhosted.org/packages/fd/df/560a9bc4171eab3c3b16603387bc0cedc5a9aa07d4f8835f30f51a1b7158/oandapyV20-0.7.0.tar.gz (46kB)\n",
            "\u001b[K     |████████████████████████████████| 51kB 1.7MB/s \n",
            "\u001b[?25hBuilding wheels for collected packages: oandapyV20\n",
            "  Building wheel for oandapyV20 (setup.py) ... \u001b[?25l\u001b[?25hdone\n",
            "  Created wheel for oandapyV20: filename=oandapyV20-0.7.0-cp37-none-any.whl size=70015 sha256=268fd87b2910f4afe00b956c941d106ef6c25a6614ad2f48f14b309d518f5586\n",
            "  Stored in directory: /root/.cache/pip/wheels/a2/a0/2a/d96bbeddbdc532de319532d28787daddcf64459626eb1c05be\n",
            "Successfully built oandapyV20\n",
            "Installing collected packages: oandapyV20\n",
            "Successfully installed oandapyV20-0.7.0\n"
          ],
          "name": "stdout"
        }
      ]
    },
    {
      "cell_type": "code",
      "metadata": {
        "id": "AK121ObSAUqj"
      },
      "source": [
        "from finta import TA"
      ],
      "execution_count": null,
      "outputs": []
    },
    {
      "cell_type": "code",
      "metadata": {
        "id": "rAoOfF2zAkgm"
      },
      "source": [
        "import oandapyV20.endpoints.instruments as instruments\n",
        "import oandapyV20.endpoints.forexlabs as labs\n",
        "import oandapyV20\n",
        "\n",
        "accountID = \"your account id\"\n",
        "access_token = \"your access token\"\n",
        "\n",
        "client = oandapyV20.API(access_token=access_token)"
      ],
      "execution_count": null,
      "outputs": []
    },
    {
      "cell_type": "code",
      "metadata": {
        "id": "iv-3S-CD_q3B"
      },
      "source": [
        "import numpy as np\n",
        "import pandas as pd"
      ],
      "execution_count": null,
      "outputs": []
    },
    {
      "cell_type": "code",
      "metadata": {
        "id": "itzmJ2vZ_6dB"
      },
      "source": [
        "from sklearn.ensemble import RandomForestClassifier\n",
        "from sklearn.model_selection import train_test_split\n",
        "from sklearn.model_selection import RandomizedSearchCV\n",
        "from sklearn.metrics import plot_roc_curve\n",
        "from sklearn.metrics import accuracy_score, classification_report"
      ],
      "execution_count": null,
      "outputs": []
    },
    {
      "cell_type": "code",
      "metadata": {
        "id": "TI-0Czgb_8lh"
      },
      "source": [
        "import pickle"
      ],
      "execution_count": null,
      "outputs": []
    },
    {
      "cell_type": "markdown",
      "metadata": {
        "id": "c0tfvOCf__aq"
      },
      "source": [
        "#**Data Prepering**"
      ]
    },
    {
      "cell_type": "code",
      "metadata": {
        "id": "7yrXu528AKLb"
      },
      "source": [
        "def get_data(symbol, timeframe, count):\n",
        "    params = {\"count\": count, \"granularity\": timeframe}\n",
        "    r = instruments.InstrumentsCandles(instrument=symbol, params=params)\n",
        "    client.request(r)\n",
        "    candles = r.response['candles']\n",
        "\n",
        "    df = pd.json_normalize(candles)\n",
        "    df['High'] = df['mid.h'].astype('float64').dropna()\n",
        "    df['Low'] = df['mid.l'].astype('float64').dropna()\n",
        "    df['Open'] = df['mid.o'].astype('float64').dropna()\n",
        "    df['Close'] = df['mid.c'].astype('float64').dropna()\n",
        "    df['Volume'] = df['mid.c'].astype('float64').dropna()\n",
        "    df = df[['Open' , 'Close' , 'High' , 'Low' , 'Volume']]\n",
        "    return df"
      ],
      "execution_count": null,
      "outputs": []
    },
    {
      "cell_type": "code",
      "metadata": {
        "id": "Asuohs4ZAv9Z"
      },
      "source": [
        "df = get_data('EUR_USD' , 'D' , 5000)\n",
        "\n",
        "df['SMA_FAST'] = TA.SMA(df,14)\n",
        "df['SMA_SLOW'] = TA.SMA(df,21)\n",
        "previous_10 = df['SMA_FAST'].shift(1)\n",
        "previous_20 = df['SMA_SLOW'].shift(1)\n",
        "df['MA_CROSSOVER'] = crossing = (((df['SMA_FAST'] <= df['SMA_SLOW']) & (previous_10 >= previous_20))\n",
        "            | ((df['SMA_FAST'] >= df['SMA_SLOW']) & (previous_10 <= previous_20)))\n",
        "df['RSI'] = TA.RSI(df)\n",
        "df['ADX'] = TA.ADX(df)\n",
        "df['CCI'] = TA.CCI(df)\n",
        "df['STOCH'] = TA.STOCH(df)\n",
        "df['MACD'] = TA.MACD(df)['MACD']\n",
        "df['ATR'] = TA.ATR(df)\n",
        "df['CHANGE'] = df['Close'].diff()\n",
        "df['OBV'] = TA.OBV(df)\n",
        "df['Prediction'] = df['Close'].transform(lambda x : np.sign(x.diff()))\n",
        "df.loc[df['Prediction'] == 0.0] = 1.0\n",
        "df['Prediction'] = df['Prediction'].shift(-1)\n",
        "\n",
        "df.fillna(0,inplace=True)"
      ],
      "execution_count": null,
      "outputs": []
    },
    {
      "cell_type": "code",
      "metadata": {
        "colab": {
          "base_uri": "https://localhost:8080/",
          "height": 204
        },
        "id": "NWgRdNWqBbeC",
        "outputId": "c94bb5f5-94a6-4e05-eb3e-54e7f322efb4"
      },
      "source": [
        "df.head(5)"
      ],
      "execution_count": null,
      "outputs": [
        {
          "output_type": "execute_result",
          "data": {
            "text/html": [
              "<div>\n",
              "<style scoped>\n",
              "    .dataframe tbody tr th:only-of-type {\n",
              "        vertical-align: middle;\n",
              "    }\n",
              "\n",
              "    .dataframe tbody tr th {\n",
              "        vertical-align: top;\n",
              "    }\n",
              "\n",
              "    .dataframe thead th {\n",
              "        text-align: right;\n",
              "    }\n",
              "</style>\n",
              "<table border=\"1\" class=\"dataframe\">\n",
              "  <thead>\n",
              "    <tr style=\"text-align: right;\">\n",
              "      <th></th>\n",
              "      <th>Open</th>\n",
              "      <th>Close</th>\n",
              "      <th>High</th>\n",
              "      <th>Low</th>\n",
              "      <th>Volume</th>\n",
              "      <th>SMA_FAST</th>\n",
              "      <th>SMA_SLOW</th>\n",
              "      <th>MA_CROSSOVER</th>\n",
              "      <th>RSI</th>\n",
              "      <th>ADX</th>\n",
              "      <th>CCI</th>\n",
              "      <th>STOCH</th>\n",
              "      <th>MACD</th>\n",
              "      <th>ATR</th>\n",
              "      <th>CHANGE</th>\n",
              "      <th>OBV</th>\n",
              "      <th>Prediction</th>\n",
              "    </tr>\n",
              "  </thead>\n",
              "  <tbody>\n",
              "    <tr>\n",
              "      <th>0</th>\n",
              "      <td>1.24215</td>\n",
              "      <td>1.24215</td>\n",
              "      <td>1.24215</td>\n",
              "      <td>1.24215</td>\n",
              "      <td>1.24215</td>\n",
              "      <td>0.0</td>\n",
              "      <td>0.0</td>\n",
              "      <td>False</td>\n",
              "      <td>0.000000</td>\n",
              "      <td>0.0</td>\n",
              "      <td>0.000000</td>\n",
              "      <td>0.0</td>\n",
              "      <td>0.000000</td>\n",
              "      <td>0.0</td>\n",
              "      <td>0.00000</td>\n",
              "      <td>0.00000</td>\n",
              "      <td>-1.0</td>\n",
              "    </tr>\n",
              "    <tr>\n",
              "      <th>1</th>\n",
              "      <td>1.23880</td>\n",
              "      <td>1.23880</td>\n",
              "      <td>1.23880</td>\n",
              "      <td>1.23880</td>\n",
              "      <td>1.23880</td>\n",
              "      <td>0.0</td>\n",
              "      <td>0.0</td>\n",
              "      <td>False</td>\n",
              "      <td>0.000000</td>\n",
              "      <td>0.0</td>\n",
              "      <td>-66.666667</td>\n",
              "      <td>0.0</td>\n",
              "      <td>-0.000075</td>\n",
              "      <td>0.0</td>\n",
              "      <td>-0.00335</td>\n",
              "      <td>-1.23880</td>\n",
              "      <td>-1.0</td>\n",
              "    </tr>\n",
              "    <tr>\n",
              "      <th>2</th>\n",
              "      <td>1.23278</td>\n",
              "      <td>1.23278</td>\n",
              "      <td>1.23278</td>\n",
              "      <td>1.23278</td>\n",
              "      <td>1.23278</td>\n",
              "      <td>0.0</td>\n",
              "      <td>0.0</td>\n",
              "      <td>False</td>\n",
              "      <td>0.000000</td>\n",
              "      <td>0.0</td>\n",
              "      <td>-100.000000</td>\n",
              "      <td>0.0</td>\n",
              "      <td>-0.000282</td>\n",
              "      <td>0.0</td>\n",
              "      <td>-0.00602</td>\n",
              "      <td>-2.47158</td>\n",
              "      <td>1.0</td>\n",
              "    </tr>\n",
              "    <tr>\n",
              "      <th>3</th>\n",
              "      <td>1.23470</td>\n",
              "      <td>1.23470</td>\n",
              "      <td>1.23470</td>\n",
              "      <td>1.23470</td>\n",
              "      <td>1.23470</td>\n",
              "      <td>0.0</td>\n",
              "      <td>0.0</td>\n",
              "      <td>False</td>\n",
              "      <td>18.464165</td>\n",
              "      <td>0.0</td>\n",
              "      <td>-47.661470</td>\n",
              "      <td>0.0</td>\n",
              "      <td>-0.000300</td>\n",
              "      <td>0.0</td>\n",
              "      <td>0.00192</td>\n",
              "      <td>-1.23688</td>\n",
              "      <td>1.0</td>\n",
              "    </tr>\n",
              "    <tr>\n",
              "      <th>4</th>\n",
              "      <td>1.23900</td>\n",
              "      <td>1.23900</td>\n",
              "      <td>1.23900</td>\n",
              "      <td>1.23900</td>\n",
              "      <td>1.23900</td>\n",
              "      <td>0.0</td>\n",
              "      <td>0.0</td>\n",
              "      <td>False</td>\n",
              "      <td>43.586686</td>\n",
              "      <td>0.0</td>\n",
              "      <td>33.680370</td>\n",
              "      <td>0.0</td>\n",
              "      <td>-0.000133</td>\n",
              "      <td>0.0</td>\n",
              "      <td>0.00430</td>\n",
              "      <td>0.00212</td>\n",
              "      <td>1.0</td>\n",
              "    </tr>\n",
              "  </tbody>\n",
              "</table>\n",
              "</div>"
            ],
            "text/plain": [
              "      Open    Close     High      Low  ...  ATR   CHANGE      OBV Prediction\n",
              "0  1.24215  1.24215  1.24215  1.24215  ...  0.0  0.00000  0.00000       -1.0\n",
              "1  1.23880  1.23880  1.23880  1.23880  ...  0.0 -0.00335 -1.23880       -1.0\n",
              "2  1.23278  1.23278  1.23278  1.23278  ...  0.0 -0.00602 -2.47158        1.0\n",
              "3  1.23470  1.23470  1.23470  1.23470  ...  0.0  0.00192 -1.23688        1.0\n",
              "4  1.23900  1.23900  1.23900  1.23900  ...  0.0  0.00430  0.00212        1.0\n",
              "\n",
              "[5 rows x 17 columns]"
            ]
          },
          "metadata": {
            "tags": []
          },
          "execution_count": 22
        }
      ]
    },
    {
      "cell_type": "markdown",
      "metadata": {
        "id": "ZWVV3oAXeZC5"
      },
      "source": [
        "#**Machine Learning MOdel**"
      ]
    },
    {
      "cell_type": "code",
      "metadata": {
        "id": "azmWvo9-Bla2"
      },
      "source": [
        "X_Cols = df[['CHANGE','RSI','STOCH','MACD','ADX','CCI','OBV' , 'MA_CROSSOVER']]\n",
        "Y_Cols = df['Prediction']\n",
        "\n",
        "# Split X and y into X_\n",
        "X_train, X_test, y_train, y_test = train_test_split(X_Cols, Y_Cols, random_state = 0 , test_size=0.2)\n",
        "\n",
        "# Create a Random Forest Classifier\n",
        "rand_frst_clf = RandomForestClassifier(n_estimators = 100, oob_score = True, criterion = \"gini\", random_state = 0)\n",
        "\n",
        "# Fit the data to the model\n",
        "rand_frst_clf.fit(X_train, y_train)\n",
        "\n",
        "# Make predictions\n",
        "y_pred = rand_frst_clf.predict(X_test)"
      ],
      "execution_count": null,
      "outputs": []
    },
    {
      "cell_type": "code",
      "metadata": {
        "colab": {
          "base_uri": "https://localhost:8080/"
        },
        "id": "kYsIw7fECMXj",
        "outputId": "c74ab664-c512-4eb0-f3d5-65bcf29a6be9"
      },
      "source": [
        "print('Correct Prediction (%): ', accuracy_score(y_test, rand_frst_clf.predict(X_test), normalize = True) * 100.0)"
      ],
      "execution_count": null,
      "outputs": [
        {
          "output_type": "stream",
          "text": [
            "Correct Prediction (%):  52.300000000000004\n"
          ],
          "name": "stdout"
        }
      ]
    },
    {
      "cell_type": "code",
      "metadata": {
        "id": "n1cmyoa1DmTW"
      },
      "source": [
        "filename = 'fx_rf_model.sav'\n",
        "pickle.dump(rand_frst_clf, open(filename, 'wb'))"
      ],
      "execution_count": null,
      "outputs": []
    }
  ]
}