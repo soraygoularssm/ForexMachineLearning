{
  "nbformat": 4,
  "nbformat_minor": 0,
  "metadata": {
    "colab": {
      "name": "forex_lstm.ipynb",
      "provenance": [],
      "collapsed_sections": [
        "28Om1plDm6pv"
      ],
      "authorship_tag": "ABX9TyNQ2M9GVbmX129V4pNqhfNE"
    },
    "kernelspec": {
      "display_name": "Python 3",
      "name": "python3"
    },
    "language_info": {
      "name": "python"
    }
  },
  "cells": [
    {
      "cell_type": "markdown",
      "metadata": {
        "id": "28Om1plDm6pv"
      },
      "source": [
        "#**install and imports**"
      ]
    },
    {
      "cell_type": "code",
      "metadata": {
        "colab": {
          "base_uri": "https://localhost:8080/"
        },
        "id": "zG5gtLAgmuXy",
        "outputId": "8b4d66d4-62e8-469a-f470-00220c168425"
      },
      "source": [
        "!pip install finta oandapyV20"
      ],
      "execution_count": null,
      "outputs": [
        {
          "output_type": "stream",
          "name": "stdout",
          "text": [
            "Collecting finta\n",
            "  Downloading finta-1.3-py3-none-any.whl (29 kB)\n",
            "Collecting oandapyV20\n",
            "  Downloading oandapyV20-0.7.2.tar.gz (51 kB)\n",
            "\u001b[K     |████████████████████████████████| 51 kB 278 kB/s \n",
            "\u001b[?25hRequirement already satisfied: numpy in /usr/local/lib/python3.7/dist-packages (from finta) (1.19.5)\n",
            "Requirement already satisfied: pandas in /usr/local/lib/python3.7/dist-packages (from finta) (1.1.5)\n",
            "Requirement already satisfied: python-dateutil>=2.7.3 in /usr/local/lib/python3.7/dist-packages (from pandas->finta) (2.8.2)\n",
            "Requirement already satisfied: pytz>=2017.2 in /usr/local/lib/python3.7/dist-packages (from pandas->finta) (2018.9)\n",
            "Requirement already satisfied: six>=1.5 in /usr/local/lib/python3.7/dist-packages (from python-dateutil>=2.7.3->pandas->finta) (1.15.0)\n",
            "Building wheels for collected packages: oandapyV20\n",
            "  Building wheel for oandapyV20 (setup.py) ... \u001b[?25l\u001b[?25hdone\n",
            "  Created wheel for oandapyV20: filename=oandapyV20-0.7.2-py3-none-any.whl size=70037 sha256=164a7c5ef72208842fac7730e39e830c4b58cc49e0e8a620ea0c14acbd568179\n",
            "  Stored in directory: /root/.cache/pip/wheels/92/bd/c8/f003f96afcd47c2f94db568cf69d5834fd044897ced995babe\n",
            "Successfully built oandapyV20\n",
            "Installing collected packages: oandapyV20, finta\n",
            "Successfully installed finta-1.3 oandapyV20-0.7.2\n"
          ]
        }
      ]
    },
    {
      "cell_type": "code",
      "metadata": {
        "id": "Seqpbv3rm3zm"
      },
      "source": [
        "import pandas as pd\n",
        "import numpy as np\n",
        "\n",
        "from matplotlib import pyplot as plt\n",
        "\n",
        "import seaborn as sns\n",
        "sns.set_context(\"paper\", font_scale=1.3)\n",
        "sns.set_style('white')\n",
        "\n",
        "import pickle\n",
        "\n",
        "from finta import TA\n",
        "\n",
        "import oandapyV20\n",
        "import oandapyV20.endpoints.instruments as instruments"
      ],
      "execution_count": null,
      "outputs": []
    },
    {
      "cell_type": "code",
      "metadata": {
        "id": "20rFzFmPwer_"
      },
      "source": [
        "from sklearn.preprocessing import MinMaxScaler\n",
        "from sklearn.metrics import mean_squared_error\n",
        "from sklearn.metrics import mean_absolute_error\n",
        "from sklearn.model_selection import train_test_split\n",
        "\n",
        "from keras.callbacks import EarlyStopping\n",
        "from keras.models import Sequential\n",
        "from keras.layers import Dense\n",
        "from keras.layers import LSTM\n",
        "from keras.layers import Dropout\n",
        "from keras.layers import RepeatVector\n",
        "from keras.layers import TimeDistributed\n",
        "from keras.layers import concatenate\n",
        "from keras.preprocessing.sequence import TimeseriesGenerator"
      ],
      "execution_count": null,
      "outputs": []
    },
    {
      "cell_type": "markdown",
      "metadata": {
        "id": "hjI8I_J7nCEF"
      },
      "source": [
        "#**Load Data**"
      ]
    },
    {
      "cell_type": "code",
      "metadata": {
        "id": "hUeBAEepnFhi"
      },
      "source": [
        "accountID = \"\"\n",
        "access_token = \"\"\n",
        "\n",
        "client = oandapyV20.API(access_token=access_token)"
      ],
      "execution_count": null,
      "outputs": []
    },
    {
      "cell_type": "code",
      "metadata": {
        "id": "K-IflPiNnN63"
      },
      "source": [
        "def get_data(symbol, timeframe, count):\n",
        "    params = {\"count\": count, \"granularity\": timeframe}\n",
        "    r = instruments.InstrumentsCandles(instrument=symbol, params=params)\n",
        "    client.request(r)\n",
        "    candles = r.response['candles']\n",
        "\n",
        "    df = pd.json_normalize(candles)\n",
        "    close = df['mid.c'].astype('float64').dropna()\n",
        "    df['log_returns'] = np.log(1 + close.pct_change())\n",
        "    df['Close'] = close\n",
        "    df['Date'] = pd.to_datetime(df['time']).dt.tz_localize(None)\n",
        "    df = df[['Date' , 'log_returns' , 'Close']]\n",
        "\n",
        "    df.fillna(0, inplace=True)\n",
        "    return df"
      ],
      "execution_count": null,
      "outputs": []
    },
    {
      "cell_type": "code",
      "metadata": {
        "id": "OAhu2eeKnQeO"
      },
      "source": [
        "pair = 'XAU_USD'\n",
        "timeframe = 'M5'\n",
        "count = 5000\n",
        "\n",
        "df = get_data(pair , timeframe, count)"
      ],
      "execution_count": null,
      "outputs": []
    },
    {
      "cell_type": "code",
      "metadata": {
        "id": "BdBRCmtehSuR"
      },
      "source": [
        "df = df[1:]"
      ],
      "execution_count": null,
      "outputs": []
    },
    {
      "cell_type": "code",
      "metadata": {
        "id": "sHufB_U8jQBa",
        "colab": {
          "base_uri": "https://localhost:8080/",
          "height": 205
        },
        "outputId": "883298ac-ecd5-4b79-e579-ade4b7448ef1"
      },
      "source": [
        "df.tail()"
      ],
      "execution_count": null,
      "outputs": [
        {
          "output_type": "execute_result",
          "data": {
            "text/html": [
              "<div>\n",
              "<style scoped>\n",
              "    .dataframe tbody tr th:only-of-type {\n",
              "        vertical-align: middle;\n",
              "    }\n",
              "\n",
              "    .dataframe tbody tr th {\n",
              "        vertical-align: top;\n",
              "    }\n",
              "\n",
              "    .dataframe thead th {\n",
              "        text-align: right;\n",
              "    }\n",
              "</style>\n",
              "<table border=\"1\" class=\"dataframe\">\n",
              "  <thead>\n",
              "    <tr style=\"text-align: right;\">\n",
              "      <th></th>\n",
              "      <th>Date</th>\n",
              "      <th>log_returns</th>\n",
              "      <th>Close</th>\n",
              "    </tr>\n",
              "  </thead>\n",
              "  <tbody>\n",
              "    <tr>\n",
              "      <th>4995</th>\n",
              "      <td>2021-09-23 12:00:00</td>\n",
              "      <td>-0.000008</td>\n",
              "      <td>1773.236</td>\n",
              "    </tr>\n",
              "    <tr>\n",
              "      <th>4996</th>\n",
              "      <td>2021-09-23 12:05:00</td>\n",
              "      <td>-0.000522</td>\n",
              "      <td>1772.310</td>\n",
              "    </tr>\n",
              "    <tr>\n",
              "      <th>4997</th>\n",
              "      <td>2021-09-23 12:10:00</td>\n",
              "      <td>0.000544</td>\n",
              "      <td>1773.275</td>\n",
              "    </tr>\n",
              "    <tr>\n",
              "      <th>4998</th>\n",
              "      <td>2021-09-23 12:15:00</td>\n",
              "      <td>0.000155</td>\n",
              "      <td>1773.550</td>\n",
              "    </tr>\n",
              "    <tr>\n",
              "      <th>4999</th>\n",
              "      <td>2021-09-23 12:20:00</td>\n",
              "      <td>-0.000682</td>\n",
              "      <td>1772.340</td>\n",
              "    </tr>\n",
              "  </tbody>\n",
              "</table>\n",
              "</div>"
            ],
            "text/plain": [
              "                    Date  log_returns     Close\n",
              "4995 2021-09-23 12:00:00    -0.000008  1773.236\n",
              "4996 2021-09-23 12:05:00    -0.000522  1772.310\n",
              "4997 2021-09-23 12:10:00     0.000544  1773.275\n",
              "4998 2021-09-23 12:15:00     0.000155  1773.550\n",
              "4999 2021-09-23 12:20:00    -0.000682  1772.340"
            ]
          },
          "metadata": {},
          "execution_count": 8
        }
      ]
    },
    {
      "cell_type": "code",
      "metadata": {
        "colab": {
          "base_uri": "https://localhost:8080/",
          "height": 348
        },
        "id": "2v6-EbtontQc",
        "outputId": "7b010acb-4bcb-4946-bc15-8044d1e3c837"
      },
      "source": [
        "df.set_index('Date').plot(subplots = True)"
      ],
      "execution_count": null,
      "outputs": [
        {
          "output_type": "execute_result",
          "data": {
            "text/plain": [
              "array([<matplotlib.axes._subplots.AxesSubplot object at 0x7f3db7a4c250>,\n",
              "       <matplotlib.axes._subplots.AxesSubplot object at 0x7f3db0c57450>],\n",
              "      dtype=object)"
            ]
          },
          "metadata": {},
          "execution_count": 9
        },
        {
          "output_type": "display_data",
          "data": {
            "image/png": "[encoded data removed]",
            "text/plain": [
              "<Figure size 432x288 with 2 Axes>"
            ]
          },
          "metadata": {}
        }
      ]
    },
    {
      "cell_type": "code",
      "metadata": {
        "id": "22pf10BXm48D"
      },
      "source": [
        "X = df[['log_returns']].values"
      ],
      "execution_count": null,
      "outputs": []
    },
    {
      "cell_type": "code",
      "metadata": {
        "id": "351zH3UXQuS1"
      },
      "source": [
        "scaler = MinMaxScaler(feature_range=(0, 1))\n",
        "X_scaled = scaler.fit_transform(X)"
      ],
      "execution_count": null,
      "outputs": []
    },
    {
      "cell_type": "code",
      "metadata": {
        "id": "33uD5nbNSGrX"
      },
      "source": [
        "y = [x[0] for x in X_scaled]"
      ],
      "execution_count": null,
      "outputs": []
    },
    {
      "cell_type": "markdown",
      "metadata": {
        "id": "_37NLGsjRrAY"
      },
      "source": [
        "#**Spilit the data**"
      ]
    },
    {
      "cell_type": "code",
      "metadata": {
        "id": "eaMoFkniRwk2"
      },
      "source": [
        "spilit = int(len(X_scaled) * 0.8)"
      ],
      "execution_count": null,
      "outputs": []
    },
    {
      "cell_type": "code",
      "metadata": {
        "id": "5WjBhNeeSAZw"
      },
      "source": [
        "X_train = X_scaled[:spilit]\n",
        "X_test = X_scaled[spilit:len(X_scaled)]\n",
        "y_train = y[:spilit]\n",
        "y_test = y[spilit:len(y)]"
      ],
      "execution_count": null,
      "outputs": []
    },
    {
      "cell_type": "markdown",
      "metadata": {
        "id": "pldO5Df5S5fw"
      },
      "source": [
        "#**Labaling**"
      ]
    },
    {
      "cell_type": "code",
      "metadata": {
        "id": "pFPwotm7S71V"
      },
      "source": [
        "n = 60\n",
        "Xtrain = []\n",
        "Xtest = []\n",
        "ytrain = []\n",
        "ytest = []\n",
        "\n",
        "for i in range(n , len(X_train)):\n",
        "  Xtrain.append(X_train[i - n :i ,:X_train.shape[1]])\n",
        "  ytrain.append(y_train[i])  \n",
        "for i in range(n , len(X_test)):\n",
        "  Xtest.append(X_test[i - n:i, : X_test.shape[1]])\n",
        "  ytest.append(y_test[i])  "
      ],
      "execution_count": null,
      "outputs": []
    },
    {
      "cell_type": "code",
      "metadata": {
        "id": "7TQ1q5FoYRvB"
      },
      "source": [
        "Xtrain , ytrain = (np.array(Xtrain) , np.array(ytrain))\n",
        "Xtrain = np.reshape(Xtrain , (Xtrain.shape[0] , Xtrain.shape[1] , Xtrain.shape[2]))\n",
        "\n",
        "Xtest , ytest = (np.array(Xtest) , np.array(ytest))\n",
        "Xtest = np.reshape(Xtest , (Xtest.shape[0] , Xtest.shape[1] , Xtest.shape[2]))"
      ],
      "execution_count": null,
      "outputs": []
    },
    {
      "cell_type": "markdown",
      "metadata": {
        "id": "gjVhZbeyn-CK"
      },
      "source": [
        "#**Train Model**"
      ]
    },
    {
      "cell_type": "code",
      "metadata": {
        "colab": {
          "base_uri": "https://localhost:8080/"
        },
        "id": "a9fvELSBd93z",
        "outputId": "257c6d6c-4828-448a-9d93-edb50f11b46f"
      },
      "source": [
        "model = Sequential()\n",
        "model.add(LSTM(128, input_shape=(Xtrain.shape[1], Xtrain.shape[2])))\n",
        "model.add(Dropout(rate=0.2))\n",
        "\n",
        "model.add(RepeatVector(Xtrain.shape[1]))\n",
        "\n",
        "model.add(LSTM(128, return_sequences=True))\n",
        "model.add(Dropout(rate=0.2))\n",
        "model.add(TimeDistributed(Dense(Xtrain.shape[2])))\n",
        "model.compile(optimizer='adam', loss='mae')\n",
        "model.summary()\n",
        "\n",
        "history = model.fit(Xtrain , ytrain, epochs=10, validation_data=(Xtest , ytest), verbose=1, shuffle=False)"
      ],
      "execution_count": null,
      "outputs": [
        {
          "output_type": "stream",
          "name": "stdout",
          "text": [
            "Model: \"sequential_1\"\n",
            "_________________________________________________________________\n",
            "Layer (type)                 Output Shape              Param #   \n",
            "=================================================================\n",
            "lstm_2 (LSTM)                (None, 128)               66560     \n",
            "_________________________________________________________________\n",
            "dropout_2 (Dropout)          (None, 128)               0         \n",
            "_________________________________________________________________\n",
            "repeat_vector_1 (RepeatVecto (None, 60, 128)           0         \n",
            "_________________________________________________________________\n",
            "lstm_3 (LSTM)                (None, 60, 128)           131584    \n",
            "_________________________________________________________________\n",
            "dropout_3 (Dropout)          (None, 60, 128)           0         \n",
            "_________________________________________________________________\n",
            "time_distributed_1 (TimeDist (None, 60, 1)             129       \n",
            "=================================================================\n",
            "Total params: 198,273\n",
            "Trainable params: 198,273\n",
            "Non-trainable params: 0\n",
            "_________________________________________________________________\n",
            "Epoch 1/10\n",
            "124/124 [==============================] - 20s 124ms/step - loss: 0.0588 - val_loss: 0.0497\n",
            "Epoch 2/10\n",
            "124/124 [==============================] - 15s 117ms/step - loss: 0.0377 - val_loss: 0.0488\n",
            "Epoch 3/10\n",
            "124/124 [==============================] - 15s 122ms/step - loss: 0.0348 - val_loss: 0.0437\n",
            "Epoch 4/10\n",
            "124/124 [==============================] - 15s 118ms/step - loss: 0.0321 - val_loss: 0.0349\n",
            "Epoch 5/10\n",
            "124/124 [==============================] - 15s 118ms/step - loss: 0.0319 - val_loss: 0.0303\n",
            "Epoch 6/10\n",
            "124/124 [==============================] - 15s 117ms/step - loss: 0.0308 - val_loss: 0.0313\n",
            "Epoch 7/10\n",
            "124/124 [==============================] - 15s 117ms/step - loss: 0.0301 - val_loss: 0.0320\n",
            "Epoch 8/10\n",
            "124/124 [==============================] - 15s 117ms/step - loss: 0.0297 - val_loss: 0.0345\n",
            "Epoch 9/10\n",
            "124/124 [==============================] - 15s 118ms/step - loss: 0.0293 - val_loss: 0.0332\n",
            "Epoch 10/10\n",
            "124/124 [==============================] - 15s 118ms/step - loss: 0.0290 - val_loss: 0.0315\n"
          ]
        }
      ]
    },
    {
      "cell_type": "code",
      "metadata": {
        "colab": {
          "base_uri": "https://localhost:8080/",
          "height": 269
        },
        "id": "VyYiBVpcr2cp",
        "outputId": "a43d72cf-b92d-4edf-a4d6-f0a6d2c63323"
      },
      "source": [
        "# plot history\n",
        "plt.plot(history.history['loss'], label='train')\n",
        "plt.plot(history.history['val_loss'], label='test')\n",
        "plt.legend()\n",
        "plt.show()"
      ],
      "execution_count": null,
      "outputs": [
        {
          "output_type": "display_data",
          "data": {
            "image/png": "[encoded data removed]",
            "text/plain": [
              "<Figure size 432x288 with 1 Axes>"
            ]
          },
          "metadata": {}
        }
      ]
    },
    {
      "cell_type": "code",
      "metadata": {
        "id": "v6vVqpCCkJ8_"
      },
      "source": [
        "model.save('LSTM_FOREX.h5')"
      ],
      "execution_count": null,
      "outputs": []
    },
    {
      "cell_type": "markdown",
      "metadata": {
        "id": "6o514WnWuQYh"
      },
      "source": [
        "#**Forecast**"
      ]
    },
    {
      "cell_type": "code",
      "metadata": {
        "id": "0jRcr1WsOHvV"
      },
      "source": [
        "last60candles = X_scaled[-61:-1, : 1]"
      ],
      "execution_count": null,
      "outputs": []
    },
    {
      "cell_type": "code",
      "metadata": {
        "id": "H1zXGvaJis1H"
      },
      "source": [
        "last60candles = np.reshape(last60candles , (1 , last60candles.shape[0] , last60candles.shape[1]))"
      ],
      "execution_count": null,
      "outputs": []
    },
    {
      "cell_type": "code",
      "metadata": {
        "id": "0ofFz6j4jYk5"
      },
      "source": [
        "prediction = model.predict(last60candles)"
      ],
      "execution_count": null,
      "outputs": []
    },
    {
      "cell_type": "code",
      "metadata": {
        "id": "6LREVzHGj806"
      },
      "source": [
        "prediction = scaler.inverse_transform(prediction[0].reshape(-1,1))\n",
        "prediction = [x[0] for x in prediction]\n",
        "prediction = np.array(prediction).mean()"
      ],
      "execution_count": null,
      "outputs": []
    },
    {
      "cell_type": "code",
      "metadata": {
        "id": "Q5yhvKgNnLlB",
        "colab": {
          "base_uri": "https://localhost:8080/"
        },
        "outputId": "a94be8b0-e417-41ad-9457-171a0f40800c"
      },
      "source": [
        "prediction"
      ],
      "execution_count": null,
      "outputs": [
        {
          "output_type": "execute_result",
          "data": {
            "text/plain": [
              "-0.005358588"
            ]
          },
          "metadata": {},
          "execution_count": 29
        }
      ]
    },
    {
      "cell_type": "code",
      "metadata": {
        "colab": {
          "base_uri": "https://localhost:8080/",
          "height": 595
        },
        "id": "z7zJAgosBMZG",
        "outputId": "ca7e149c-493a-49d3-cafb-863143921784"
      },
      "source": [
        "df[\"Close\"]"
      ],
      "execution_count": null,
      "outputs": [
        {
          "output_type": "error",
          "ename": "KeyError",
          "evalue": "ignored",
          "traceback": [
            "\u001b[0;31m---------------------------------------------------------------------------\u001b[0m",
            "\u001b[0;31mKeyError\u001b[0m                                  Traceback (most recent call last)",
            "\u001b[0;32m/usr/local/lib/python3.7/dist-packages/pandas/core/indexes/base.py\u001b[0m in \u001b[0;36mget_loc\u001b[0;34m(self, key, method, tolerance)\u001b[0m\n\u001b[1;32m   2897\u001b[0m             \u001b[0;32mtry\u001b[0m\u001b[0;34m:\u001b[0m\u001b[0;34m\u001b[0m\u001b[0;34m\u001b[0m\u001b[0m\n\u001b[0;32m-> 2898\u001b[0;31m                 \u001b[0;32mreturn\u001b[0m \u001b[0mself\u001b[0m\u001b[0;34m.\u001b[0m\u001b[0m_engine\u001b[0m\u001b[0;34m.\u001b[0m\u001b[0mget_loc\u001b[0m\u001b[0;34m(\u001b[0m\u001b[0mcasted_key\u001b[0m\u001b[0;34m)\u001b[0m\u001b[0;34m\u001b[0m\u001b[0;34m\u001b[0m\u001b[0m\n\u001b[0m\u001b[1;32m   2899\u001b[0m             \u001b[0;32mexcept\u001b[0m \u001b[0mKeyError\u001b[0m \u001b[0;32mas\u001b[0m \u001b[0merr\u001b[0m\u001b[0;34m:\u001b[0m\u001b[0;34m\u001b[0m\u001b[0;34m\u001b[0m\u001b[0m\n",
            "\u001b[0;32mpandas/_libs/index.pyx\u001b[0m in \u001b[0;36mpandas._libs.index.IndexEngine.get_loc\u001b[0;34m()\u001b[0m\n",
            "\u001b[0;32mpandas/_libs/index.pyx\u001b[0m in \u001b[0;36mpandas._libs.index.IndexEngine.get_loc\u001b[0;34m()\u001b[0m\n",
            "\u001b[0;32mpandas/_libs/hashtable_class_helper.pxi\u001b[0m in \u001b[0;36mpandas._libs.hashtable.PyObjectHashTable.get_item\u001b[0;34m()\u001b[0m\n",
            "\u001b[0;32mpandas/_libs/hashtable_class_helper.pxi\u001b[0m in \u001b[0;36mpandas._libs.hashtable.PyObjectHashTable.get_item\u001b[0;34m()\u001b[0m\n",
            "\u001b[0;31mKeyError\u001b[0m: 'Close'",
            "\nThe above exception was the direct cause of the following exception:\n",
            "\u001b[0;31mKeyError\u001b[0m                                  Traceback (most recent call last)",
            "\u001b[0;32m<ipython-input-77-80691dbb3f3d>\u001b[0m in \u001b[0;36m<module>\u001b[0;34m()\u001b[0m\n\u001b[0;32m----> 1\u001b[0;31m \u001b[0mdf\u001b[0m\u001b[0;34m[\u001b[0m\u001b[0;34m\"Close\"\u001b[0m\u001b[0;34m]\u001b[0m\u001b[0;34m\u001b[0m\u001b[0;34m\u001b[0m\u001b[0m\n\u001b[0m",
            "\u001b[0;32m/usr/local/lib/python3.7/dist-packages/pandas/core/frame.py\u001b[0m in \u001b[0;36m__getitem__\u001b[0;34m(self, key)\u001b[0m\n\u001b[1;32m   2904\u001b[0m             \u001b[0;32mif\u001b[0m \u001b[0mself\u001b[0m\u001b[0;34m.\u001b[0m\u001b[0mcolumns\u001b[0m\u001b[0;34m.\u001b[0m\u001b[0mnlevels\u001b[0m \u001b[0;34m>\u001b[0m \u001b[0;36m1\u001b[0m\u001b[0;34m:\u001b[0m\u001b[0;34m\u001b[0m\u001b[0;34m\u001b[0m\u001b[0m\n\u001b[1;32m   2905\u001b[0m                 \u001b[0;32mreturn\u001b[0m \u001b[0mself\u001b[0m\u001b[0;34m.\u001b[0m\u001b[0m_getitem_multilevel\u001b[0m\u001b[0;34m(\u001b[0m\u001b[0mkey\u001b[0m\u001b[0;34m)\u001b[0m\u001b[0;34m\u001b[0m\u001b[0;34m\u001b[0m\u001b[0m\n\u001b[0;32m-> 2906\u001b[0;31m             \u001b[0mindexer\u001b[0m \u001b[0;34m=\u001b[0m \u001b[0mself\u001b[0m\u001b[0;34m.\u001b[0m\u001b[0mcolumns\u001b[0m\u001b[0;34m.\u001b[0m\u001b[0mget_loc\u001b[0m\u001b[0;34m(\u001b[0m\u001b[0mkey\u001b[0m\u001b[0;34m)\u001b[0m\u001b[0;34m\u001b[0m\u001b[0;34m\u001b[0m\u001b[0m\n\u001b[0m\u001b[1;32m   2907\u001b[0m             \u001b[0;32mif\u001b[0m \u001b[0mis_integer\u001b[0m\u001b[0;34m(\u001b[0m\u001b[0mindexer\u001b[0m\u001b[0;34m)\u001b[0m\u001b[0;34m:\u001b[0m\u001b[0;34m\u001b[0m\u001b[0;34m\u001b[0m\u001b[0m\n\u001b[1;32m   2908\u001b[0m                 \u001b[0mindexer\u001b[0m \u001b[0;34m=\u001b[0m \u001b[0;34m[\u001b[0m\u001b[0mindexer\u001b[0m\u001b[0;34m]\u001b[0m\u001b[0;34m\u001b[0m\u001b[0;34m\u001b[0m\u001b[0m\n",
            "\u001b[0;32m/usr/local/lib/python3.7/dist-packages/pandas/core/indexes/base.py\u001b[0m in \u001b[0;36mget_loc\u001b[0;34m(self, key, method, tolerance)\u001b[0m\n\u001b[1;32m   2898\u001b[0m                 \u001b[0;32mreturn\u001b[0m \u001b[0mself\u001b[0m\u001b[0;34m.\u001b[0m\u001b[0m_engine\u001b[0m\u001b[0;34m.\u001b[0m\u001b[0mget_loc\u001b[0m\u001b[0;34m(\u001b[0m\u001b[0mcasted_key\u001b[0m\u001b[0;34m)\u001b[0m\u001b[0;34m\u001b[0m\u001b[0;34m\u001b[0m\u001b[0m\n\u001b[1;32m   2899\u001b[0m             \u001b[0;32mexcept\u001b[0m \u001b[0mKeyError\u001b[0m \u001b[0;32mas\u001b[0m \u001b[0merr\u001b[0m\u001b[0;34m:\u001b[0m\u001b[0;34m\u001b[0m\u001b[0;34m\u001b[0m\u001b[0m\n\u001b[0;32m-> 2900\u001b[0;31m                 \u001b[0;32mraise\u001b[0m \u001b[0mKeyError\u001b[0m\u001b[0;34m(\u001b[0m\u001b[0mkey\u001b[0m\u001b[0;34m)\u001b[0m \u001b[0;32mfrom\u001b[0m \u001b[0merr\u001b[0m\u001b[0;34m\u001b[0m\u001b[0;34m\u001b[0m\u001b[0m\n\u001b[0m\u001b[1;32m   2901\u001b[0m \u001b[0;34m\u001b[0m\u001b[0m\n\u001b[1;32m   2902\u001b[0m         \u001b[0;32mif\u001b[0m \u001b[0mtolerance\u001b[0m \u001b[0;32mis\u001b[0m \u001b[0;32mnot\u001b[0m \u001b[0;32mNone\u001b[0m\u001b[0;34m:\u001b[0m\u001b[0;34m\u001b[0m\u001b[0;34m\u001b[0m\u001b[0m\n",
            "\u001b[0;31mKeyError\u001b[0m: 'Close'"
          ]
        }
      ]
    }
  ]
}